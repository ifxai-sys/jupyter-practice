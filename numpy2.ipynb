{
 "cells": [
  {
   "cell_type": "code",
   "execution_count": 6,
   "id": "3cb5283b-2cf6-4450-8709-66af1e1f0c08",
   "metadata": {},
   "outputs": [
    {
     "name": "stdout",
     "output_type": "stream",
     "text": [
      "[ 0  2  4  6  8 10 12 14 16 18]\n"
     ]
    }
   ],
   "source": [
    "#Create a 1D array containing numbers from 0 to 19.\n",
    "#Extract only the even numbers without using a loop.\n",
    "import numpy as np\n",
    "arr=np.arange(0,20,2)\n",
    "evens=arr[arr%2==0]\n",
    "print(evens)\n"
   ]
  },
  {
   "cell_type": "code",
   "execution_count": 8,
   "id": "ad3174da-e01d-4fa6-92f4-57b42f7fe25c",
   "metadata": {},
   "outputs": [
    {
     "name": "stdout",
     "output_type": "stream",
     "text": [
      "[[1 0 0]\n",
      " [0 1 0]\n",
      " [0 0 1]]\n"
     ]
    }
   ],
   "source": [
    "#Create a 3×3 array where the diagonal elements are 1 \n",
    "#and all other elements are 0 (identity matrix).\n",
    "import numpy as np\n",
    "identity_matrix=np.eye(3,dtype='i')\n",
    "print(identity_matrix)"
   ]
  },
  {
   "cell_type": "code",
   "execution_count": 20,
   "id": "a187cbbd-c6ab-4cd5-a27c-a5ef841ce563",
   "metadata": {},
   "outputs": [
    {
     "name": "stdout",
     "output_type": "stream",
     "text": [
      "[[ 1  2  3  4  5]\n",
      " [ 6  7  8  9 10]\n",
      " [11 12 13 14 15]\n",
      " [16 17 18 19 20]\n",
      " [21 22 23 24 25]]\n",
      "Corners  [ 1  5 21 25]\n",
      "Last Element  [ 5 10 15 20 25]\n",
      "Middle_Block [[ 7  8  9]\n",
      " [12 13 14]\n",
      " [17 18 19]]\n"
     ]
    }
   ],
   "source": [
    "#Create a 5×5 array with numbers from 1 to 25.\n",
    "#(a) Extract only the corner elements.\n",
    "#(b) Extract the last element of each row.\n",
    "#(c) Extract the middle 3×3 block.\n",
    "import numpy as np\n",
    "arr=np.arange(1,26).reshape(5,5)\n",
    "print(arr)\n",
    "corners=np.array([arr[0,0],arr[0,-1],arr[-1,0],arr[-1,-1]])\n",
    "print(\"Corners \",corners)\n",
    "last_element=arr[:,-1]\n",
    "print(\"Last Element \",last_element)\n",
    "middle_block=arr[1:4,1:4]\n",
    "print(\"Middle_Block\",middle_block)"
   ]
  },
  {
   "cell_type": "code",
   "execution_count": 23,
   "id": "a8f7e96d-a19e-4c42-92ce-73c16b93b52c",
   "metadata": {},
   "outputs": [
    {
     "name": "stdout",
     "output_type": "stream",
     "text": [
      "[ 0  1  2 -1 -1 -1 -1  7  8  9]\n",
      "[ 0  1  2 -1 -1 -1 -1  7  8  9]\n"
     ]
    }
   ],
   "source": [
    "#Create an array a = np.arange(10).\n",
    "#Take a view of it and set elements from index 3 to 7 to -1. \n",
    "#What happens to the original array?\n",
    "#Do the same using a copy and compare the results.\n",
    "import numpy as np\n",
    "arr=np.arange(10)\n",
    "a=arr.view()\n",
    "a[3:7]=-1\n",
    "print(arr)\n",
    "b=arr.copy()\n",
    "b[3:7]=-1\n",
    "print(arr)"
   ]
  },
  {
   "cell_type": "code",
   "execution_count": 25,
   "id": "cee74c2a-4cc1-463d-9e02-ead657f65a72",
   "metadata": {},
   "outputs": [
    {
     "name": "stdout",
     "output_type": "stream",
     "text": [
      "[[ 1  2  3  4  5  6]\n",
      " [ 7  8  9 10 11 12]\n",
      " [13 14 15 16 17 18]\n",
      " [19 20 21 22 23 24]\n",
      " [25 26 27 28 29 30]\n",
      " [31 32 33 34 35 36]]\n",
      "[[ 1  2  3  4  5  6  7  8  9 10 11 12]\n",
      " [13 14 15 16 17 18 19 20 21 22 23 24]\n",
      " [25 26 27 28 29 30 31 32 33 34 35 36]]\n",
      "[[[ 1  2  3  4  5  6]\n",
      "  [ 7  8  9 10 11 12]\n",
      "  [13 14 15 16 17 18]]\n",
      "\n",
      " [[19 20 21 22 23 24]\n",
      "  [25 26 27 28 29 30]\n",
      "  [31 32 33 34 35 36]]]\n",
      "Ravel [ 1  2  3  4  5  6  7  8  9 10 11 12 13 14 15 16 17 18 19 20 21 22 23 24\n",
      " 25 26 27 28 29 30 31 32 33 34 35 36]\n"
     ]
    }
   ],
   "source": [
    "#Create a 1D array with 36 elements. Reshape it into:\n",
    "#(a) 6×6\n",
    "#(b) 3×12\n",
    "#(c) 2×3×6\n",
    "#Check the relationship between reshape and ravel.\n",
    "import numpy as np\n",
    "arr=np.arange(1,37)\n",
    "a=arr.reshape(6,6)\n",
    "b=arr.reshape(3,12)\n",
    "c=arr.reshape(2,3,6)\n",
    "print(a)\n",
    "print(b)\n",
    "print(c)\n",
    "print(\"Ravel :\",a.ravel())"
   ]
  },
  {
   "cell_type": "code",
   "execution_count": 30,
   "id": "8bb03ea9-8b98-4d14-9a25-b040442fe2c3",
   "metadata": {},
   "outputs": [
    {
     "name": "stdout",
     "output_type": "stream",
     "text": [
      "Sums is : 15\n",
      "Difference is : [-4 -2  0  2  4]\n",
      "Product is : [5 8 9 8 5]\n"
     ]
    }
   ],
   "source": [
    "#Create two arrays: a = [1,2,3,4,5], b = [5,4,3,2,1].\n",
    "#(a) Perform elementwise sum, difference, and multiplication.\n",
    "#(b) Compute the dot product and outer product.\n",
    "#(c) If you want to add a 1D array row-wise to a 2D array, \n",
    "#how can you use broadcasting?\n",
    "import numpy as np\n",
    "a=np.arange(1,6)\n",
    "b=np.arange(5,0,-1)\n",
    "sums=np.sum(a)\n",
    "diff=np.subtract(a,b)\n",
    "multi=np.multiply(a,b)\n",
    "print(\"Sums is :\",sums)\n",
    "print(\"Difference is :\",diff)\n",
    "print(\"Product is :\",multi)\n"
   ]
  },
  {
   "cell_type": "code",
   "execution_count": 33,
   "id": "cd269150-0186-40e9-9468-05087d354025",
   "metadata": {},
   "outputs": [
    {
     "name": "stdout",
     "output_type": "stream",
     "text": [
      "2X8 [[8 1 3 4 8 1 6 8]\n",
      " [9 5 8 5 9 5 1 3]]\n",
      "8X2 [[8 1]\n",
      " [3 4]\n",
      " [8 1]\n",
      " [6 8]\n",
      " [9 5]\n",
      " [8 5]\n",
      " [9 5]\n",
      " [1 3]]\n"
     ]
    }
   ],
   "source": [
    "#Create a 4×4 array with random numbers.Reshape it into both 2×8 and 8×2.\n",
    "ran_arr=np.random.randint(1,10,size=(4,4))\n",
    "a=ran_arr.reshape(2,8)\n",
    "b=ran_arr.reshape(8,2)\n",
    "print(\"2X8\",a)\n",
    "print(\"8X2\",b)"
   ]
  },
  {
   "cell_type": "code",
   "execution_count": null,
   "id": "baf7d97b-f6e0-481f-b89a-72aae0d40b10",
   "metadata": {},
   "outputs": [],
   "source": []
  }
 ],
 "metadata": {
  "kernelspec": {
   "display_name": "Python 3 (ipykernel)",
   "language": "python",
   "name": "python3"
  },
  "language_info": {
   "codemirror_mode": {
    "name": "ipython",
    "version": 3
   },
   "file_extension": ".py",
   "mimetype": "text/x-python",
   "name": "python",
   "nbconvert_exporter": "python",
   "pygments_lexer": "ipython3",
   "version": "3.13.5"
  }
 },
 "nbformat": 4,
 "nbformat_minor": 5
}
