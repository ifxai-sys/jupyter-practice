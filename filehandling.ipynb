{
 "cells": [
  {
   "cell_type": "code",
   "execution_count": 3,
   "id": "3d65b5d1-ce44-4548-9e58-56f4d69dcabc",
   "metadata": {},
   "outputs": [
    {
     "name": "stdout",
     "output_type": "stream",
     "text": [
      "<_io.TextIOWrapper name='file.txt' mode='x' encoding='cp1252'>\n"
     ]
    }
   ],
   "source": [
    "f=open('file.txt','x')\n",
    "print(f)"
   ]
  },
  {
   "cell_type": "code",
   "execution_count": 8,
   "id": "e1a0917d-f39e-475c-97b3-6cabc604fc8c",
   "metadata": {},
   "outputs": [
    {
     "name": "stdout",
     "output_type": "stream",
     "text": [
      "<_io.TextIOWrapper name='file.txt' mode='w' encoding='cp1252'>\n"
     ]
    }
   ],
   "source": [
    "f=open('file.txt','w')\n",
    "f.write(\"hello my name is iman\")\n",
    "f.close()"
   ]
  },
  {
   "cell_type": "code",
   "execution_count": 11,
   "id": "07639ebf-3d5f-457e-b942-cec32ac84994",
   "metadata": {},
   "outputs": [
    {
     "name": "stdout",
     "output_type": "stream",
     "text": [
      "hello my name is iman\n"
     ]
    }
   ],
   "source": [
    "f=open('file.txt','r')\n",
    "print(f.read())"
   ]
  },
  {
   "cell_type": "code",
   "execution_count": 14,
   "id": "e55d985d-98fa-40db-ad1a-b26488afd72c",
   "metadata": {},
   "outputs": [
    {
     "name": "stdout",
     "output_type": "stream",
     "text": [
      "Student Name:Iman , Student Age: 20\n"
     ]
    }
   ],
   "source": [
    "file=open('student.txt','w')\n",
    "file.write(\"Student Name:Iman , Student Age: 20\")\n",
    "file.close()"
   ]
  },
  {
   "cell_type": "code",
   "execution_count": 15,
   "id": "8805d711-f91c-4f55-9e7f-0edc9b1af3a9",
   "metadata": {},
   "outputs": [
    {
     "name": "stdout",
     "output_type": "stream",
     "text": [
      "Student Name:Iman , Student Age: 20\n"
     ]
    }
   ],
   "source": [
    "file=open('student.txt','r')\n",
    "print(file.read())"
   ]
  },
  {
   "cell_type": "code",
   "execution_count": 18,
   "id": "41134923-2723-478c-b28c-a9c6e62183f7",
   "metadata": {},
   "outputs": [],
   "source": [
    "files=open('number.txt','w')\n",
    "for i in range(1,11):\n",
    "    files.write(str(i)+'\\n')\n",
    "files.close()"
   ]
  },
  {
   "cell_type": "code",
   "execution_count": 19,
   "id": "63f989bb-b521-4b77-9e27-29f8a86ecb97",
   "metadata": {},
   "outputs": [
    {
     "name": "stdout",
     "output_type": "stream",
     "text": [
      "1\n",
      "2\n",
      "3\n",
      "4\n",
      "5\n",
      "6\n",
      "7\n",
      "8\n",
      "9\n",
      "10\n",
      "\n"
     ]
    }
   ],
   "source": [
    "files=open('number.txt','r')\n",
    "print(files.read())"
   ]
  },
  {
   "cell_type": "code",
   "execution_count": 24,
   "id": "6c1e685d-9b21-4d19-a8f8-f81229698e4c",
   "metadata": {},
   "outputs": [
    {
     "name": "stdin",
     "output_type": "stream",
     "text": [
      "enter the name : iman\n",
      "enter the age : 20\n"
     ]
    }
   ],
   "source": [
    "name=input(\"enter the name :\")\n",
    "age=int(input(\"enter the age :\"))\n",
    "data=open('data.txt','w')\n",
    "data.write(\"Name:\" + name + '\\n')\n",
    "data.write(\"Age:\" + str(age) +'\\n')\n",
    "data.close()"
   ]
  },
  {
   "cell_type": "code",
   "execution_count": 25,
   "id": "0dfe42f2-6a35-48a0-91e8-68153ac2347a",
   "metadata": {},
   "outputs": [
    {
     "name": "stdout",
     "output_type": "stream",
     "text": [
      "Name:iman\n",
      "Age:20\n",
      "\n"
     ]
    }
   ],
   "source": [
    "data=open('data.txt','r')\n",
    "print(data.read())"
   ]
  },
  {
   "cell_type": "code",
   "execution_count": 34,
   "id": "87b4e876-81c2-4479-898c-08ffcb3e8d4e",
   "metadata": {},
   "outputs": [
    {
     "name": "stdout",
     "output_type": "stream",
     "text": [
      "130\n"
     ]
    }
   ],
   "source": [
    "count=0\n",
    "story=open('story.txt','w')\n",
    "story.write('The bright sun slowly rose above the horizon, spreading golden light across the peaceful sky, awakening nature with gentle warmth.')\n",
    "story.close()\n",
    "story=open('story.txt','r')\n",
    "stor=story.read()\n",
    "print(len(stor))"
   ]
  },
  {
   "cell_type": "code",
   "execution_count": 27,
   "id": "dd267dff-02c9-459d-88a4-0f517b886f7a",
   "metadata": {},
   "outputs": [
    {
     "name": "stdin",
     "output_type": "stream",
     "text": [
      "Enter the number of students:  4\n",
      "Enter marks of student 1:  4\n",
      "Enter marks of student 2:  5\n",
      "Enter marks of student 3:  6\n",
      "Enter marks of student 4:  7\n"
     ]
    },
    {
     "name": "stdout",
     "output_type": "stream",
     "text": [
      "Data saved in marks.txt successfully!\n"
     ]
    },
    {
     "data": {
      "text/plain": [
       "'4\\n5\\n6\\n7\\nAverage = 5.5\\nMaximum number is 7\\nMinimum number is 4\\n'"
      ]
     },
     "execution_count": 27,
     "metadata": {},
     "output_type": "execute_result"
    }
   ],
   "source": [
    "mark=open('marks.txt','w')\n",
    "average=0\n",
    "n=int(input(\"enter the number of students:\"))\n",
    "marks=[]\n",
    "for i in range(1,n+1):\n",
    "    m=int(input(f\"enter marks of student {i} :\"))\n",
    "    marks.append(m)\n",
    "    average+=m\n",
    "    mark.write(str(m)+'\\n')\n",
    "average/=n\n",
    "mark.write(\"Average=\"  + str(average) )\n",
    "maxi=marks[0]\n",
    "for i in marks:\n",
    "    if i > maxi:\n",
    "        maxi=i\n",
    "mark.write(\"maximum numbers is \" + str(maxi))\n",
    "mini=marks[0]\n",
    "for i in marks:\n",
    "    if i < mini:\n",
    "        mini=i\n",
    "mark.write(\"minimum number is \" + str(mini) )\n",
    "mark.close()\n",
    "marks=open('marks.txt','r')\n",
    "marks.read()"
   ]
  },
  {
   "cell_type": "code",
   "execution_count": 34,
   "id": "3d0c988d-3d27-4574-b292-7d7a5a58489a",
   "metadata": {},
   "outputs": [
    {
     "data": {
      "text/plain": [
       "'Date:2025-09-16\\ntime22:35:43.855214\\n'"
      ]
     },
     "execution_count": 34,
     "metadata": {},
     "output_type": "execute_result"
    }
   ],
   "source": [
    "import datetime\n",
    "log=open('log.txt','w')\n",
    "now_date=datetime.date.today()\n",
    "now_time=datetime.datetime.now().time()\n",
    "log.write(\"Date:\"+str(now_date) +'\\n')\n",
    "log.write(\"time\"+str(now_time) + '\\n')\n",
    "log.close()\n",
    "log=open('log.txt','r')\n",
    "log.read()"
   ]
  },
  {
   "cell_type": "code",
   "execution_count": 41,
   "id": "635a4c6b-f16b-4b38-bbaf-c9c34f6294bd",
   "metadata": {},
   "outputs": [
    {
     "name": "stdin",
     "output_type": "stream",
     "text": [
      "Enter the number of students:  3\n",
      "Enter the name of student 1:  iman\n",
      "Enter the age of student 1:  20\n",
      "Enter the city of student 1:  lahore\n",
      "Enter the name of student 2:  isra\n",
      "Enter the age of student 2:  15\n",
      "Enter the city of student 2:  okara\n",
      "Enter the name of student 3:  taiba\n",
      "Enter the age of student 3:  18\n",
      "Enter the city of student 3:  ksk\n"
     ]
    },
    {
     "name": "stdout",
     "output_type": "stream",
     "text": [
      "Students with age 18 or more:\n",
      "Name: iman\n",
      "Age: 20\n",
      "City: lahore\n",
      "\n",
      "Name: taiba\n",
      "Age: 18\n",
      "City: ksk\n",
      "\n"
     ]
    }
   ],
   "source": [
    "# Writing records\n",
    "with open('records.txt','w') as record:\n",
    "    n=int(input(\"Enter the number of students: \"))\n",
    "    for i in range(1,n+1):\n",
    "        name=input(f\"Enter the name of student {i}: \")\n",
    "        age=int(input(f\"Enter the age of student {i}: \"))\n",
    "        city=input(f\"Enter the city of student {i}: \")\n",
    "        record.write(f\"{name},{age},{city}\\n\")   # added newline and removed extra spaces\n",
    "\n",
    "print(\"Students with age 18 or more:\")\n",
    "\n",
    "# Reading and filtering\n",
    "with open('records.txt','r') as record:\n",
    "    for i in record:\n",
    "        name, age, city = i.strip().split(\",\")\n",
    "        if int(age) >= 18:\n",
    "            print(f\"Name: {name}\\nAge: {age}\\nCity: {city}\\n\")\n"
   ]
  },
  {
   "cell_type": "code",
   "execution_count": null,
   "id": "022122c4-6a33-478f-85e3-de1753cbe530",
   "metadata": {},
   "outputs": [],
   "source": []
  }
 ],
 "metadata": {
  "kernelspec": {
   "display_name": "Python 3 (ipykernel)",
   "language": "python",
   "name": "python3"
  },
  "language_info": {
   "codemirror_mode": {
    "name": "ipython",
    "version": 3
   },
   "file_extension": ".py",
   "mimetype": "text/x-python",
   "name": "python",
   "nbconvert_exporter": "python",
   "pygments_lexer": "ipython3",
   "version": "3.13.5"
  }
 },
 "nbformat": 4,
 "nbformat_minor": 5
}
