{
 "cells": [
  {
   "cell_type": "code",
   "execution_count": 21,
   "id": "eba928e2-fa91-4f35-831a-3b6661324a55",
   "metadata": {},
   "outputs": [
    {
     "name": "stdout",
     "output_type": "stream",
     "text": [
      "1600000.0\n",
      "20000000.0\n",
      "Brand:toyota , Model:2017\n",
      "Brand:Honda , Model:2015\n"
     ]
    }
   ],
   "source": [
    "class Car:\n",
    "    def __init__(self,brand,model,p):\n",
    "        self.brand=brand\n",
    "        self.model=model\n",
    "        self.Price=p\n",
    "    @property\n",
    "    def discount(self):\n",
    "        return self.Price-(self.Price*0.2) \n",
    "    @discount.setter\n",
    "    def discount(self,new_price):\n",
    "        self.Price=new_price\n",
    "    def details(self):\n",
    "        print(f\"Brand:{self.brand} , Model:{self.model}\")\n",
    "Corolla=Car('toyota',2017,2000000.0)\n",
    "Civic=Car('Honda',2015,15000000.0)\n",
    "print(Corolla.discount)\n",
    "Corolla.discount=25000000.0\n",
    "print(Corolla.discount)\n",
    "Corolla.details()\n",
    "Civic.details()"
   ]
  },
  {
   "cell_type": "code",
   "execution_count": 5,
   "id": "3b8050c2-52de-4e0d-8bbc-0ff643b10f74",
   "metadata": {},
   "outputs": [
    {
     "name": "stdout",
     "output_type": "stream",
     "text": [
      "Hello, My name is iman and I am 21 years old\n",
      "Hello, My name is taiba and I am 20 years old\n",
      "Hello, My name is isra and I am 19 years old\n"
     ]
    }
   ],
   "source": [
    "class Student:\n",
    "    def __init__(self,name,age):\n",
    "        self.name=name\n",
    "        self.age=age\n",
    "    def Introduce(self):\n",
    "        print(f\"Hello, My name is {self.name} and I am {self.age} years old\")\n",
    "s1=Student('iman',21)\n",
    "s2=Student('taiba',20)\n",
    "s3=Student('isra',19)\n",
    "s1.Introduce()\n",
    "s2.Introduce()\n",
    "s3.Introduce()"
   ]
  },
  {
   "cell_type": "code",
   "execution_count": 10,
   "id": "9ad14996-efa0-4867-9ed8-f03acb2d676c",
   "metadata": {},
   "outputs": [
    {
     "name": "stdout",
     "output_type": "stream",
     "text": [
      "Title: Harry Potter \n",
      "Author: JK Rowling\n",
      "Year: 1989\n"
     ]
    }
   ],
   "source": [
    "class Book:\n",
    "    def __init__(self,title,author,year):\n",
    "        self.title=title\n",
    "        self.author=author\n",
    "        self.year=year\n",
    "    def detail(self):\n",
    "        print(f\"Title: {self.title} \\nAuthor: {self.author}\\nYear: {self.year}\")\n",
    "b1=Book('Harry Potter','JK Rowling',1989)\n",
    "b1.detail()"
   ]
  },
  {
   "cell_type": "code",
   "execution_count": 22,
   "id": "eadf64ba-8564-4702-a2d7-2bcb72c2b824",
   "metadata": {},
   "outputs": [
    {
     "name": "stdout",
     "output_type": "stream",
     "text": [
      "Student: Ali, School: UMT\n",
      "Student: Ali, School: LUMS\n",
      "This is a Student class!\n"
     ]
    }
   ],
   "source": [
    "class Student:\n",
    "    school = \"UMT\"\n",
    "\n",
    "    def __init__(self, name):\n",
    "        self.name = name\n",
    "\n",
    "    # Instance method\n",
    "    def show(self):\n",
    "        print(f\"Student: {self.name}, School: {self.school}\")\n",
    "\n",
    "    # Class method\n",
    "    @classmethod\n",
    "    def change_school(cls, new_name):\n",
    "        cls.school = new_name\n",
    "\n",
    "    # Static method\n",
    "    @staticmethod\n",
    "    def info():\n",
    "        print(\"This is a Student class!\")\n",
    "s1 = Student(\"Ali\")\n",
    "s1.show()                 # Instance method\n",
    "Student.change_school(\"LUMS\")  \n",
    "s1.show()                 # School name updated\n",
    "Student.info()            # Static method (general info)\n"
   ]
  },
  {
   "cell_type": "code",
   "execution_count": 1,
   "id": "aa982fdb-26bc-40f8-8d04-6691093b9c46",
   "metadata": {},
   "outputs": [
    {
     "name": "stdout",
     "output_type": "stream",
     "text": [
      "WOOf\n",
      "Meow\n"
     ]
    }
   ],
   "source": [
    "class Animal:\n",
    "    def sound(self):\n",
    "        print(\"Animal made a sound\")\n",
    "class Cat:\n",
    "    def sound(self):\n",
    "        print(\"Meow\")\n",
    "class Dog:\n",
    "    def sound(self):\n",
    "        print(\"WOOf\")\n",
    "d=Dog()\n",
    "d.sound()\n",
    "c=Cat()\n",
    "c.sound()\n"
   ]
  },
  {
   "cell_type": "code",
   "execution_count": 5,
   "id": "433bd728-6078-4f50-9219-1b4880e081f7",
   "metadata": {},
   "outputs": [
    {
     "name": "stdout",
     "output_type": "stream",
     "text": [
      "Brand:toyota\n",
      "Year:2017\n",
      "Model:345\n"
     ]
    }
   ],
   "source": [
    "class Vechicle:\n",
    "    def __init__(self,b,y):\n",
    "        self.brand=b\n",
    "        self.year=y\n",
    "class Car(Vechicle):\n",
    "    def __init__(self,b,y,m):\n",
    "        super().__init__(b,y)\n",
    "        self.model=m\n",
    "    def show_details(self):\n",
    "        print(f\"Brand:{self.brand}\\nYear:{self.year}\\nModel:{self.model}\")\n",
    "c=Car(\"toyota\",2017,\"345\")\n",
    "c.show_details()"
   ]
  },
  {
   "cell_type": "code",
   "execution_count": 7,
   "id": "ac989169-2bb5-4dc9-b5f8-485a0a7b93e0",
   "metadata": {},
   "outputs": [
    {
     "name": "stdout",
     "output_type": "stream",
     "text": [
      "Name:Iman\n",
      "Age:20\n",
      "Roll_no:772\n"
     ]
    }
   ],
   "source": [
    "class Person:\n",
    "    def __init__(self,n,a):\n",
    "        self.name=n\n",
    "        self.age=a\n",
    "class Student(Person):\n",
    "    def __init__(self,n,a,r_n):\n",
    "        super().__init__(n,a)\n",
    "        self.roll_no=r_n\n",
    "    def info(self):\n",
    "        print(f\"Name:{self.name}\\nAge:{self.age}\\nRoll_no:{self.roll_no}\")\n",
    "s1=Student(\"Iman\",20,772)\n",
    "s1.info()"
   ]
  },
  {
   "cell_type": "code",
   "execution_count": 12,
   "id": "01ff64cc-2f31-4022-96a4-20b6af823e7d",
   "metadata": {},
   "outputs": [
    {
     "name": "stdout",
     "output_type": "stream",
     "text": [
      "12.56\n",
      "6\n"
     ]
    }
   ],
   "source": [
    "class Shape:\n",
    "    def area(self):\n",
    "        return 1\n",
    "class Circle(Shape):\n",
    "    def __init__(self,r):\n",
    "        self.radius=r\n",
    "    def area(self):\n",
    "        return 3.14*(self.radius**2)\n",
    "class Rectangle(Shape):\n",
    "    def __init__(self,l,w):\n",
    "        self.lenght=l\n",
    "        self.width=w\n",
    "    def area(self):\n",
    "        return self.lenght*self.width\n",
    "c=Circle(2)\n",
    "print(c.area())\n",
    "r=Rectangle(2,3)\n",
    "print(r.area())"
   ]
  },
  {
   "cell_type": "code",
   "execution_count": 16,
   "id": "f81cb2a2-a086-417c-90f4-ff8a6b68095f",
   "metadata": {},
   "outputs": [
    {
     "data": {
      "text/plain": [
       "225000"
      ]
     },
     "execution_count": 16,
     "metadata": {},
     "output_type": "execute_result"
    }
   ],
   "source": [
    "class Employee:\n",
    "    def __init__(self,name,slry):\n",
    "        self.name=name\n",
    "        self.salary=slry\n",
    "class Manager(Employee):\n",
    "    def __init__(self,name,slry,alo):\n",
    "        super().__init__(name,slry)\n",
    "        self.allowance=alo\n",
    "    def calculate_salary(self):\n",
    "        return self.salary+self.allowance\n",
    "class Developer(Employee):\n",
    "      def __init__(self,name,slry,alo):\n",
    "        super().__init__(self,name,slry)\n",
    "        self.allowance=alo\n",
    "      def calculate_salary(self):\n",
    "        return self.salary+self.allowance\n",
    "M=Manager(\"iman\",200000,25000)\n",
    "M.calculate_salary()"
   ]
  },
  {
   "cell_type": "code",
   "execution_count": 26,
   "id": "6d50f5c4-f118-4f44-b8c5-dd4ec838ad22",
   "metadata": {},
   "outputs": [
    {
     "name": "stdin",
     "output_type": "stream",
     "text": [
      "enter withdraw amount:  1500\n"
     ]
    },
    {
     "name": "stdout",
     "output_type": "stream",
     "text": [
      "NO enough credit\n"
     ]
    },
    {
     "name": "stdin",
     "output_type": "stream",
     "text": [
      "enter money you want to deposit 200\n"
     ]
    },
    {
     "name": "stdout",
     "output_type": "stream",
     "text": [
      "Successfully deposit ,you current balance is 1200\n"
     ]
    },
    {
     "data": {
      "text/plain": [
       "1500.0"
      ]
     },
     "execution_count": 26,
     "metadata": {},
     "output_type": "execute_result"
    }
   ],
   "source": [
    "class Bank_account:\n",
    "    def __init__(self,bal):\n",
    "        self.balance=bal\n",
    "    def Withdraw(self):\n",
    "        with_draw=int(input(\"enter withdraw amount: \"))\n",
    "        if self.balance>=with_draw:\n",
    "            self.balance-=with_draw\n",
    "            print(f\"Successfully Withdraw, your current balance is {self.balance}\")\n",
    "        else:\n",
    "            print(\"NO enough credit\")\n",
    "    def Deposits(self):\n",
    "        deposits=int(input(\"enter money you want to deposit\"))\n",
    "        self.balance+=deposits\n",
    "        print(f\"Successfully deposit ,you current balance is {self.balance}\")\n",
    "class Saving_Account(Bank_account):\n",
    "    def __init__(self,bal):\n",
    "        super().__init__(bal)\n",
    "    def add_interset(self):\n",
    "        interset=self.balance*0.25\n",
    "        self.balance=interset+self.balance\n",
    "        return self.balance\n",
    "acc=Saving_Account(1000)\n",
    "acc.Withdraw()\n",
    "acc.Deposits()\n",
    "acc.add_interset()"
   ]
  },
  {
   "cell_type": "code",
   "execution_count": 32,
   "id": "5b65a96f-5983-4776-9d7b-05e8b5ee10da",
   "metadata": {},
   "outputs": [
    {
     "name": "stdout",
     "output_type": "stream",
     "text": [
      "Name:Iman\n",
      "Age:20\n",
      "Roll_no:772\n",
      "Score:120.5\n",
      "Marks:89\n",
      "(<class '__main__.Result'>, <class '__main__.Student'>, <class '__main__.Sports'>, <class 'object'>)\n"
     ]
    }
   ],
   "source": [
    "class Student:\n",
    "    def __init__(self,name,age,roll_no):\n",
    "        self.name=name\n",
    "        self.age=age\n",
    "        self.roll_no=roll_no\n",
    "class Sports:\n",
    "    def __init__(self,score):\n",
    "        self.score=score\n",
    "class Result(Student,Sports):\n",
    "    def __init__(self,name,age,roll_no,score,marks):\n",
    "        Student.__init__(self,name,age,roll_no)\n",
    "        Sports.__init__(self,score)\n",
    "        self.marks=marks\n",
    "    def show_details(self):\n",
    "        print(f\"Name:{self.name}\\nAge:{self.age}\\nRoll_no:{self.roll_no}\\nScore:{self.score}\\nMarks:{self.marks}\")\n",
    "s1=Result(\"Iman\",20,\"772\",120.5,89)\n",
    "s1.show_details()\n",
    "print(Result.__mro__)"
   ]
  },
  {
   "cell_type": "code",
   "execution_count": null,
   "id": "8cfb9076-58e0-4d67-aa33-5799bedd75ce",
   "metadata": {},
   "outputs": [],
   "source": []
  }
 ],
 "metadata": {
  "kernelspec": {
   "display_name": "Python 3 (ipykernel)",
   "language": "python",
   "name": "python3"
  },
  "language_info": {
   "codemirror_mode": {
    "name": "ipython",
    "version": 3
   },
   "file_extension": ".py",
   "mimetype": "text/x-python",
   "name": "python",
   "nbconvert_exporter": "python",
   "pygments_lexer": "ipython3",
   "version": "3.13.5"
  }
 },
 "nbformat": 4,
 "nbformat_minor": 5
}
