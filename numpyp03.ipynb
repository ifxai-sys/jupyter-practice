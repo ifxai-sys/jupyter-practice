{
 "cells": [
  {
   "cell_type": "code",
   "execution_count": 7,
   "id": "a70e0c3e-9e47-4fab-a032-53f2dcd33c32",
   "metadata": {},
   "outputs": [
    {
     "name": "stdout",
     "output_type": "stream",
     "text": [
      "Sine of Angles [0.00000000e+00 5.00000000e-01 7.07106781e-01 8.66025404e-01\n",
      " 1.00000000e+00 8.66025404e-01 1.22464680e-16]\n",
      "inverse sine of sine values [0.0000000e+00 3.0000000e+01 4.5000000e+01 6.0000000e+01 9.0000000e+01\n",
      " 6.0000000e+01 7.0167093e-15]\n"
     ]
    }
   ],
   "source": [
    "#using trignometric function \n",
    "import numpy as np\n",
    "angles=np.array([0,30,45,60,90,120,180])\n",
    "radians=np.deg2rad(angles)\n",
    "print(\"Sine of Angles\",np.sin(radians))\n",
    "print(\"Inverse sine of sine values\",np.rad2deg(np.arcsin(np.sin(radians))))\n",
    "      "
   ]
  },
  {
   "cell_type": "code",
   "execution_count": 8,
   "id": "16d66564-4aa2-4f22-8b44-6b75cf7bbbdc",
   "metadata": {},
   "outputs": [
    {
     "name": "stdout",
     "output_type": "stream",
     "text": [
      "The element wise multiplication of matrix is : \n",
      "[[ 7 16]\n",
      " [36 50]]\n",
      "The product of matrices is : \n",
      "[[25 28]\n",
      " [73 82]]\n"
     ]
    }
   ],
   "source": [
    "# Python code to demonstrate matrix operations \n",
    "# multiply() and dot() \n",
    "\n",
    "# importing numpy for matrix operations \n",
    "import numpy \n",
    "\n",
    "# initializing matrices \n",
    "x = numpy.array([[1, 2], [4, 5]]) \n",
    "y = numpy.array([[7, 8], [9, 10]]) \n",
    "\n",
    "# using multiply() to multiply matrices element wise \n",
    "print (\"The element wise multiplication of matrix is : \") \n",
    "print (numpy.multiply(x,y)) \n",
    "\n",
    "# using dot() to multiply matrices \n",
    "print (\"The product of matrices is : \") \n",
    "print (numpy.dot(x,y))"
   ]
  },
  {
   "cell_type": "code",
   "execution_count": 13,
   "id": "b245afea-2028-4063-ba88-e069076f9675",
   "metadata": {},
   "outputs": [
    {
     "name": "stdout",
     "output_type": "stream",
     "text": [
      "[[56 56 56 56 56]\n",
      " [88 31 34 78 67]\n",
      " [69 61 96 59 36]\n",
      " [90 25 38 26 74]\n",
      " [56 56 56 56 56]]\n"
     ]
    }
   ],
   "source": [
    "#Random Seed Reproducibility\n",
    "#Create two 5×5 arrays with random integers between 10 and 99 such that:\n",
    "#The first and last rows of both arrays are identical\n",
    "#The inner 3×5 elements differimport numpy as np\n",
    "arr=np.random.randint(10,99,size=(5,5))\n",
    "values=np.random.randint(10,99)\n",
    "arr[0,:]=values\n",
    "arr[-1,:]=values\n",
    "print(arr)"
   ]
  },
  {
   "cell_type": "code",
   "execution_count": null,
   "id": "6b3df331-7be7-4592-b63c-e711294bef83",
   "metadata": {},
   "outputs": [],
   "source": [
    "#Without using loops, create a 7×7 array where:\n",
    "#The main diagonal is all 1’s\n",
    "#The upper diagonal is filled with 2’s\n",
    "#The lower diagonal is filled with -2’s\n",
    "arr=np.eye(7)\n"
   ]
  },
  {
   "cell_type": "code",
   "execution_count": 25,
   "id": "1ac94410-5451-449b-b693-df57f54f563d",
   "metadata": {},
   "outputs": [
    {
     "name": "stdout",
     "output_type": "stream",
     "text": [
      "[12 16 54]\n",
      "[[ 7 16 27]\n",
      " [40 55 72]]\n",
      "82\n",
      "[[ 50  68]\n",
      " [122 167]]\n",
      "[[12 24 27]\n",
      " [ 8 16 18]\n",
      " [24 48 54]]\n",
      "[-30  -3  16]\n",
      "[[-6 12 -6]\n",
      " [-6 12 -6]]\n"
     ]
    }
   ],
   "source": [
    "import numpy as np\n",
    "a=np.array([3,2,6])\n",
    "b=np.array([4,8,9])\n",
    "c=np.array([[1,2,3],[4,5,6]])\n",
    "d=np.array([[7,8,9],[10,11,12]])\n",
    "e=np.array([[7,10],[8,11],[9,12]])\n",
    "mult=np.multiply(a,b)\n",
    "mult2=np.multiply(c,d)\n",
    "dot1=np.dot(a,b)\n",
    "dot2=np.dot(c,e)\n",
    "inner1=np.inner(c,d)\n",
    "outer1=np.outer(a,b)\n",
    "cross1=np.cross(a,b)\n",
    "cross2=np.cross(c,d)\n",
    "print(mult)\n",
    "print(mult2)\n",
    "print(dot1)\n",
    "print(dot2)\n",
    "print(outer1)\n",
    "print(cross1)\n",
    "print(cross2)"
   ]
  },
  {
   "cell_type": "code",
   "execution_count": null,
   "id": "c9b6b77e-9431-478c-be2d-4f951111d92c",
   "metadata": {},
   "outputs": [],
   "source": []
  }
 ],
 "metadata": {
  "kernelspec": {
   "display_name": "Python 3 (ipykernel)",
   "language": "python",
   "name": "python3"
  },
  "language_info": {
   "codemirror_mode": {
    "name": "ipython",
    "version": 3
   },
   "file_extension": ".py",
   "mimetype": "text/x-python",
   "name": "python",
   "nbconvert_exporter": "python",
   "pygments_lexer": "ipython3",
   "version": "3.13.5"
  }
 },
 "nbformat": 4,
 "nbformat_minor": 5
}
