{
 "cells": [
  {
   "cell_type": "code",
   "execution_count": 4,
   "id": "3ae4db3c-78e3-413e-8513-c7935c7995fa",
   "metadata": {},
   "outputs": [
    {
     "name": "stdout",
     "output_type": "stream",
     "text": [
      "[ 1  2  3  4  5  6  7  8  9 10]\n"
     ]
    }
   ],
   "source": [
    "#Create a 1D array of numbers from 1 to 10 using NumPy and print it\n",
    "import numpy as np\n",
    "arr=np.arange(1,11)\n",
    "print(arr)"
   ]
  },
  {
   "cell_type": "code",
   "execution_count": 12,
   "id": "2777735f-00c8-4206-a925-9d9331a84202",
   "metadata": {},
   "outputs": [
    {
     "name": "stdout",
     "output_type": "stream",
     "text": [
      "3 x 4 table of zero look like : [[0 0 0 0]\n",
      " [0 0 0 0]\n",
      " [0 0 0 0]]\n",
      "dimension of 3 x 4 table is : 2\n",
      "the shape is : (3, 4)\n"
     ]
    }
   ],
   "source": [
    "#Create a 2D array (3 rows × 4 columns) filled with zeros and display its shape and dimension.\n",
    "import numpy as np\n",
    "arr=np.array([[0,0,0,0],[0,0,0,0],[0,0,0,0]])\n",
    "print(\"3 x 4 table of zero look like :\",arr)\n",
    "print(\"dimension of 3 x 4 table is :\",arr.ndim)\n",
    "print(\"the shape is :\",arr.shape)"
   ]
  },
  {
   "cell_type": "code",
   "execution_count": 13,
   "id": "2f4806b3-bf73-4794-8ca4-8efed5c54288",
   "metadata": {},
   "outputs": [
    {
     "name": "stdout",
     "output_type": "stream",
     "text": [
      "[ 2  4  6  8 10 12 14 16 18 20]\n"
     ]
    }
   ],
   "source": [
    "#Create an array of even numbers from 2 to 20 and print the data type of the array.\n",
    "import numpy as np\n",
    "arr=np.arange(2,21,2)\n",
    "print(arr)\n"
   ]
  },
  {
   "cell_type": "code",
   "execution_count": 17,
   "id": "1da542cb-2606-4e00-9d89-a1926e540eeb",
   "metadata": {},
   "outputs": [
    {
     "name": "stdout",
     "output_type": "stream",
     "text": [
      "the array is : [[[ 1  2  3  4]\n",
      "  [ 5  6  7  8]\n",
      "  [ 9 10 11 12]]\n",
      "\n",
      " [[13 14 15 16]\n",
      "  [17 18 19 20]\n",
      "  [21 22 23 24]]]\n",
      "the shape of array: (2, 3, 4)\n",
      "the dimension of arrays 3\n",
      "the size of array  24\n"
     ]
    }
   ],
   "source": [
    "#Create a 3D array of shape (2, 3, 4) with random integers between 1 and 50. Print:\n",
    "#Shape,Number of dimensions,Size (total elements),\n",
    "import numpy as np\n",
    "arr=np.array(\n",
    "    [\n",
    "        [[1,2,3,4],[5,6,7,8],[9,10,11,12]],[[13,14,15,16],[17,18,19,20],[21,22,23,24]]\n",
    "    ]  \n",
    ")\n",
    "print(\"the array is :\",arr)\n",
    "print(\"the shape of array:\",arr.shape)\n",
    "print(\"the dimension of arrays\",arr.ndim)\n",
    "print(\"the size of array \",arr.size)\n"
   ]
  },
  {
   "cell_type": "code",
   "execution_count": 20,
   "id": "d6677d38-8f9f-482c-9846-12a61a89d972",
   "metadata": {},
   "outputs": [
    {
     "name": "stdout",
     "output_type": "stream",
     "text": [
      "[[1 2 3]\n",
      " [4 5 6]\n",
      " [7 8 9]]\n"
     ]
    }
   ],
   "source": [
    "#Convert a 1D array [1,2,3,4,5,6,7,8,9] into a 3×3 2D array and print it \n",
    "import numpy as np\n",
    "arr=np.array([1,2,3,4,5,6,7,8,9])\n",
    "arr_matrix=arr.reshape(3,3)\n",
    "print(arr_matrix)\n"
   ]
  },
  {
   "cell_type": "code",
   "execution_count": 23,
   "id": "d19fbfa9-e125-4dc2-8dd5-1329259ea1e5",
   "metadata": {},
   "outputs": [
    {
     "name": "stdout",
     "output_type": "stream",
     "text": [
      "[1 2 3 4 5 6]\n"
     ]
    }
   ],
   "source": [
    "#Flatten a 2D array of shape (4, 3) into a 1D array and print the result.\n",
    "import numpy as np\n",
    "arr=np.array([[1,2,3],[4,5,6]])\n",
    "flatten=arr.reshape(-1)\n",
    "print(flatten)"
   ]
  },
  {
   "cell_type": "code",
   "execution_count": 30,
   "id": "8bd1af7f-a271-418f-a642-915b008d29a8",
   "metadata": {},
   "outputs": [
    {
     "name": "stdout",
     "output_type": "stream",
     "text": [
      "20\n",
      "[40 50 60]\n",
      "[20 50 80]\n"
     ]
    }
   ],
   "source": [
    "#Given an array\n",
    "#arr = np.array([[10,20,30],[40,50,60],[70,80,90]])\n",
    "#Print:The element at row 1, column 2,The entire second row,The entire second column\n",
    "arr = np.array([[10,20,30],[40,50,60],[70,80,90]])\n",
    "print(arr[0][1])\n",
    "print(arr[1])\n",
    "print(arr[:,1])"
   ]
  },
  {
   "cell_type": "code",
   "execution_count": 33,
   "id": "223cbb94-7852-4449-9a68-323fe537ea16",
   "metadata": {},
   "outputs": [
    {
     "name": "stdout",
     "output_type": "stream",
     "text": [
      "[10 15 20 25 30 35 40 45 50]\n",
      "[10 20 30 40 50]\n"
     ]
    }
   ],
   "source": [
    "#Create a 1D array of numbers from 10 to 50 (step = 5). Print only the elements at even indices.\n",
    "import numpy as np\n",
    "arr=np.arange(10,51,5)\n",
    "print(arr)\n",
    "print(arr[::2])"
   ]
  },
  {
   "cell_type": "code",
   "execution_count": 43,
   "id": "645db700-cd7a-4d7e-85e9-4cf720123f7c",
   "metadata": {},
   "outputs": [
    {
     "name": "stdout",
     "output_type": "stream",
     "text": [
      "First 2 rows : [[ 1  2  3  4  5]\n",
      " [ 6  7  8  9 10]]\n",
      "Last 2 colums : [[ 4  5]\n",
      " [ 9 10]\n",
      " [14 15]\n",
      " [19 20]\n",
      " [24 25]]\n",
      "Middle Element:  13\n"
     ]
    }
   ],
   "source": [
    "#From the array\n",
    "arr = np.arange(1, 26).reshape(5, 5)\n",
    "#Print:#First 2 rows,#Last 2 columns,#Middle element\n",
    "print(\"First 2 rows :\",arr[0:2])\n",
    "print(\"Last 2 colums :\",arr[:,3:5])\n",
    "print(\"Middle Element: \",arr[2,2])"
   ]
  },
  {
   "cell_type": "code",
   "execution_count": 52,
   "id": "7a2f2e87-6ecd-40ba-ab3c-58a142df682f",
   "metadata": {},
   "outputs": [
    {
     "name": "stdout",
     "output_type": "stream",
     "text": [
      "6\n",
      "[[ 7  8  9]\n",
      " [10 11 12]]\n",
      "[1 2 3]\n"
     ]
    }
   ],
   "source": [
    "#Given\n",
    "arr = np.array([[[1,2,3],[4,5,6]],[[7,8,9],[10,11,12]]])\n",
    "#Print:The element 6 using indexing,The sub-array [[7,8,9],[10,11,12]],All elements from the first row of the first block\n",
    "print(arr[0,1,2])\n",
    "print(arr[1])\n",
    "print(arr[0,0])"
   ]
  },
  {
   "cell_type": "code",
   "execution_count": null,
   "id": "66148c11-b8d1-4acd-b081-e6dce633b86d",
   "metadata": {},
   "outputs": [],
   "source": []
  }
 ],
 "metadata": {
  "kernelspec": {
   "display_name": "Python [conda env:base] *",
   "language": "python",
   "name": "conda-base-py"
  },
  "language_info": {
   "codemirror_mode": {
    "name": "ipython",
    "version": 3
   },
   "file_extension": ".py",
   "mimetype": "text/x-python",
   "name": "python",
   "nbconvert_exporter": "python",
   "pygments_lexer": "ipython3",
   "version": "3.13.5"
  }
 },
 "nbformat": 4,
 "nbformat_minor": 5
}
