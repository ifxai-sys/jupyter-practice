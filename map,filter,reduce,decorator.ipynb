{
 "cells": [
  {
   "cell_type": "code",
   "execution_count": 1,
   "id": "7c05ab09-2947-4273-aae6-f1e0e1c27a47",
   "metadata": {},
   "outputs": [
    {
     "name": "stdout",
     "output_type": "stream",
     "text": [
      "8\n"
     ]
    }
   ],
   "source": [
    "def sums(a,b):\n",
    "    return a+b\n",
    "print(sums(5,3))"
   ]
  },
  {
   "cell_type": "code",
   "execution_count": 3,
   "id": "dca9b2f5-7fad-4e2d-8a31-96dd38824024",
   "metadata": {},
   "outputs": [
    {
     "name": "stdin",
     "output_type": "stream",
     "text": [
      "enter a number 9\n"
     ]
    },
    {
     "name": "stdout",
     "output_type": "stream",
     "text": [
      "False\n"
     ]
    }
   ],
   "source": [
    "n=int(input('enter a number'))\n",
    "def check_even(n):\n",
    "    if n % 2==0:\n",
    "        return True\n",
    "    else:\n",
    "        return False\n",
    "print(check_even(n))"
   ]
  },
  {
   "cell_type": "code",
   "execution_count": 5,
   "id": "65e58c6f-33fd-40b1-beff-796502382a32",
   "metadata": {},
   "outputs": [
    {
     "name": "stdin",
     "output_type": "stream",
     "text": [
      "enter the name of the guest iman\n"
     ]
    },
    {
     "name": "stdout",
     "output_type": "stream",
     "text": [
      "Hello iman\n"
     ]
    }
   ],
   "source": [
    "name=input('enter the name of the guest')\n",
    "def greet(name):\n",
    "    print(f\"Hello {name}\")\n",
    "greet(name)"
   ]
  },
  {
   "cell_type": "code",
   "execution_count": 9,
   "id": "81a285c1-1188-45b3-b751-0529e4b04ede",
   "metadata": {},
   "outputs": [
    {
     "name": "stdin",
     "output_type": "stream",
     "text": [
      "enter a number 5\n"
     ]
    },
    {
     "name": "stdout",
     "output_type": "stream",
     "text": [
      "120\n"
     ]
    }
   ],
   "source": [
    "no=int(input('enter a number'))\n",
    "def factorial(no):\n",
    "  if no==0 or no==1:\n",
    "      return 1\n",
    "  else:\n",
    "    return no * factorial(no-1)\n",
    "print(factorial(no))"
   ]
  },
  {
   "cell_type": "code",
   "execution_count": 15,
   "id": "2b7e9c7b-63dc-4cd6-a6c6-d6d74858e6f5",
   "metadata": {},
   "outputs": [
    {
     "name": "stdin",
     "output_type": "stream",
     "text": [
      "enter the range for prime numbers 20\n"
     ]
    },
    {
     "name": "stdout",
     "output_type": "stream",
     "text": [
      "2\n",
      "3\n",
      "5\n",
      "7\n",
      "11\n",
      "13\n",
      "17\n",
      "19\n"
     ]
    }
   ],
   "source": [
    "import math\n",
    "limit=int(input(\"enter the range for prime numbers\"))\n",
    "def prime(limit):\n",
    "    for i in range(2,limit+1):\n",
    "        is_prime=True\n",
    "        for j in range(2,int(math.sqrt(i)+1)):\n",
    "            if i%j==0:\n",
    "                is_prime=False\n",
    "                break\n",
    "        if(is_prime):\n",
    "             print(i)\n",
    "prime(limit)"
   ]
  },
  {
   "cell_type": "code",
   "execution_count": 18,
   "id": "4c72d337-96ca-4d50-9cb4-8564d80caad5",
   "metadata": {},
   "outputs": [
    {
     "name": "stdin",
     "output_type": "stream",
     "text": [
      "enter a string hello\n"
     ]
    },
    {
     "name": "stdout",
     "output_type": "stream",
     "text": [
      "2\n"
     ]
    }
   ],
   "source": [
    "string=input(\"enter a string\")\n",
    "def check_vowel(string):\n",
    "    count=0\n",
    "    for i in string:\n",
    "        if i.lower() in ('a','e','i','o','u'):\n",
    "            count+=1\n",
    "    return count\n",
    "print(check_vowel(string))"
   ]
  },
  {
   "cell_type": "code",
   "execution_count": 21,
   "id": "242b6bc1-bac6-45d3-aac4-822c13d31f40",
   "metadata": {},
   "outputs": [
    {
     "name": "stdout",
     "output_type": "stream",
     "text": [
      "[-1, 3, 5, 6]\n"
     ]
    }
   ],
   "source": [
    "li=[-1,5,3,6]\n",
    "def custom_sort(lst,key_function):\n",
    "    return sorted(lst,key=key_function)\n",
    "print(custom_sort(li,key_function=lambda x:x**2))"
   ]
  },
  {
   "cell_type": "code",
   "execution_count": 1,
   "id": "c674bc1a-c457-422a-8370-b1d54d9801e4",
   "metadata": {},
   "outputs": [
    {
     "name": "stdout",
     "output_type": "stream",
     "text": [
      "7.5\n"
     ]
    }
   ],
   "source": [
    "def average(*args):\n",
    "    if len(args)==0:\n",
    "        return 0\n",
    "    else:\n",
    "        return sum(args) / len(args)\n",
    "print(average(5,10))"
   ]
  },
  {
   "cell_type": "code",
   "execution_count": 4,
   "id": "8928a7e0-d349-401f-b3d3-694df2427696",
   "metadata": {},
   "outputs": [
    {
     "name": "stdout",
     "output_type": "stream",
     "text": [
      "Args: (1, 2, 3, 4)\n",
      "Kwargs: {'name': 'Iman', 'age': 18, 'degree': 'bscs'}\n",
      "{'Args': (1, 2, 3, 4), 'Kwargs': {'name': 'Iman', 'age': 18, 'degree': 'bscs'}}\n"
     ]
    }
   ],
   "source": [
    "def dictionary(*args,**kwargs):\n",
    "    print(\"Args:\",args)\n",
    "    print(\"Kwargs:\",kwargs)\n",
    "    return{\n",
    "        'Args':args,\n",
    "        'Kwargs':kwargs\n",
    "    }\n",
    "result=dictionary(1,2,3,4, name='Iman',age=18,degree='bscs')\n",
    "print(result)"
   ]
  },
  {
   "cell_type": "code",
   "execution_count": 7,
   "id": "e70d7d33-4922-4928-a63c-7d08431b56b9",
   "metadata": {},
   "outputs": [
    {
     "name": "stdout",
     "output_type": "stream",
     "text": [
      "['A', 'B', 'C', 'D']\n"
     ]
    }
   ],
   "source": [
    "#Use map() to convert a list of strings into uppercase.\n",
    "li=['a','b','c','d']\n",
    "def uppers(lst):\n",
    "    return lst.upper()\n",
    "print(list(map(uppers,li)))"
   ]
  },
  {
   "cell_type": "code",
   "execution_count": 9,
   "id": "cd4bd59f-72e7-47af-90ee-1e34fe4dc268",
   "metadata": {},
   "outputs": [
    {
     "name": "stdout",
     "output_type": "stream",
     "text": [
      "[4, 6, 8, 2]\n"
     ]
    }
   ],
   "source": [
    "li=[4,5,6,7,8,1,2]\n",
    "print(list(filter(lambda x:x%2==0,li)))"
   ]
  },
  {
   "cell_type": "code",
   "execution_count": 14,
   "id": "2ae25ddf-0cf5-42dc-9c6c-5a205cf079c6",
   "metadata": {},
   "outputs": [
    {
     "name": "stdout",
     "output_type": "stream",
     "text": [
      "24\n"
     ]
    }
   ],
   "source": [
    "from functools import reduce\n",
    "li=[1,2,3,4]\n",
    "print(reduce(lambda x,y:x*y,li))\n"
   ]
  },
  {
   "cell_type": "code",
   "execution_count": 16,
   "id": "65865ed7-a7e7-4bd5-a74e-49c4f85a0d63",
   "metadata": {},
   "outputs": [
    {
     "name": "stdout",
     "output_type": "stream",
     "text": [
      "[4, 9, 16, 25, 36]\n"
     ]
    }
   ],
   "source": [
    "li=[2,3,4,5,6]\n",
    "def squares(li):\n",
    "    return li**2\n",
    "print(list(map(squares,li)))"
   ]
  },
  {
   "cell_type": "code",
   "execution_count": 18,
   "id": "79a4ee48-ea2a-486e-96b4-6db0d291c515",
   "metadata": {},
   "outputs": [
    {
     "name": "stdout",
     "output_type": "stream",
     "text": [
      "['fatima', 'taibamunir', 'mehroz']\n"
     ]
    }
   ],
   "source": [
    "li=['iman','fatima','taibamunir','isra','mehroz']\n",
    "print(list(filter(lambda x:len(x)>5,li)))\n"
   ]
  },
  {
   "cell_type": "code",
   "execution_count": 19,
   "id": "ec929d8d-8406-4c3c-aad6-87adce1a6245",
   "metadata": {},
   "outputs": [
    {
     "name": "stdout",
     "output_type": "stream",
     "text": [
      "19\n"
     ]
    }
   ],
   "source": [
    "from functools import reduce\n",
    "li=[3,4,5,6,17,19,8,2,0]\n",
    "print(reduce(lambda x,y: x if x>y else y,li))"
   ]
  },
  {
   "cell_type": "code",
   "execution_count": 28,
   "id": "ca5b76ed-b9cf-4b7b-9fad-d01b2f96aa4f",
   "metadata": {},
   "outputs": [
    {
     "name": "stdout",
     "output_type": "stream",
     "text": [
      "['iman', 'misbah', 'taiba']\n"
     ]
    }
   ],
   "source": [
    "li=[\n",
    "     {\"name\":\"iman\",\"age\":18,\"degree\":\"bs cs\",\"marks\"=65},\n",
    "    {\"name\":\"misbah\",\"age\":20,\"degree\":\"bba\",\"marks\"=20},\n",
    "    {\"name\":\"taiba\",\"age\":22,\"degree\":\"bs en\",\"marks\"=55}\n",
    "]\n",
    "print(list(map(lambda x:x[\"name\"],li)))"
   ]
  },
  {
   "cell_type": "code",
   "execution_count": 31,
   "id": "3bd2736f-13de-4f70-bac5-611b41be51b4",
   "metadata": {},
   "outputs": [
    {
     "name": "stdout",
     "output_type": "stream",
     "text": [
      "[{'name': 'iman', 'age': 18, 'degree': 'bs cs', 'marks': 65}, {'name': 'taiba', 'age': 22, 'degree': 'bs en', 'marks': 55}]\n"
     ]
    }
   ],
   "source": [
    "li=[\n",
    "     {\"name\":\"iman\",\"age\":18,\"degree\":\"bs cs\",\"marks\":65},\n",
    "    {\"name\":\"misbah\",\"age\":20,\"degree\":\"bba\",\"marks\":20},\n",
    "    {\"name\":\"taiba\",\"age\":22,\"degree\":\"bs en\",\"marks\":55}\n",
    "]\n",
    "print(list(filter(lambda x:x[\"marks\"]>50,li)))"
   ]
  },
  {
   "cell_type": "code",
   "execution_count": 34,
   "id": "f0664448-859d-4352-beea-d1374b6fea32",
   "metadata": {},
   "outputs": [
    {
     "name": "stdout",
     "output_type": "stream",
     "text": [
      "140\n"
     ]
    }
   ],
   "source": [
    "from functools import reduce\n",
    "li=[\n",
    "     {\"name\":\"iman\",\"age\":18,\"degree\":\"bs cs\",\"marks\":65},\n",
    "    {\"name\":\"misbah\",\"age\":20,\"degree\":\"bba\",\"marks\":20},\n",
    "    {\"name\":\"taiba\",\"age\":22,\"degree\":\"bs en\",\"marks\":55}\n",
    "]\n",
    "print(reduce(lambda x,y:x+y[\"marks\"],li,0))"
   ]
  },
  {
   "cell_type": "code",
   "execution_count": 39,
   "id": "6ec90396-1dd4-4f26-af18-d85abbc71ff4",
   "metadata": {},
   "outputs": [
    {
     "name": "stdout",
     "output_type": "stream",
     "text": [
      "function is being called\n",
      "here is the main function\n"
     ]
    }
   ],
   "source": [
    "def my_decorator(funct):\n",
    "    def wrapper():\n",
    "       funct()\n",
    "       print(\"here is the main function\")\n",
    "    return wrapper\n",
    "@my_decorator\n",
    "def func():\n",
    "    print(\"function is being called\")\n",
    "func()\n"
   ]
  },
  {
   "cell_type": "code",
   "execution_count": 49,
   "id": "336f5b14-773d-47ac-9592-95b163b9b911",
   "metadata": {},
   "outputs": [
    {
     "name": "stdout",
     "output_type": "stream",
     "text": [
      "execution time:0.204274 seconds\n",
      "499999500000\n"
     ]
    }
   ],
   "source": [
    "import time\n",
    "def time_it(func):\n",
    "    def wrapper():\n",
    "        start=time.time()\n",
    "        result=func()\n",
    "        end=time.time()\n",
    "        print(f\"execution time:{end-start:.6f} seconds\")\n",
    "        return result\n",
    "    return wrapper\n",
    "@time_it\n",
    "def example():\n",
    "   total=0\n",
    "   for i in range(1,1000000):\n",
    "      total+=i\n",
    "   return total\n",
    "\n",
    "print(example())"
   ]
  },
  {
   "cell_type": "code",
   "execution_count": 52,
   "id": "b51486f9-4fba-4d83-ad0b-3b9453a1e5ae",
   "metadata": {},
   "outputs": [
    {
     "name": "stdout",
     "output_type": "stream",
     "text": [
      "16\n",
      "NUmber is not even\n",
      "None\n"
     ]
    }
   ],
   "source": [
    "def only_even(func):\n",
    "    def wrapper(n):\n",
    "        if n%2==0:\n",
    "            return func(n)\n",
    "        else:\n",
    "            print(\"Nmber is not even\")\n",
    "            return None\n",
    "    return wrapper\n",
    "@only_even\n",
    "def square(n):\n",
    "    return n*n\n",
    "print(square(4))\n",
    "print(square(5))"
   ]
  },
  {
   "cell_type": "code",
   "execution_count": 61,
   "id": "f0e82ad9-5553-4fe1-a51b-4c38a2256375",
   "metadata": {},
   "outputs": [
    {
     "name": "stdout",
     "output_type": "stream",
     "text": [
      "1\n",
      "2\n",
      "3\n",
      "4\n",
      "5\n",
      "6\n",
      "7\n"
     ]
    }
   ],
   "source": [
    "def repeat(func):\n",
    "    def repeater(n):\n",
    "      i=func(n)\n",
    "      for j in range(i):\n",
    "          print(f\"{j+1}\")\n",
    "    return repeater\n",
    "@repeat\n",
    "def repeats(n):\n",
    "    return n\n",
    "repeats(7)"
   ]
  },
  {
   "cell_type": "code",
   "execution_count": 73,
   "id": "ec452430-0b31-491a-90bb-78415ee4aab9",
   "metadata": {},
   "outputs": [
    {
     "name": "stdin",
     "output_type": "stream",
     "text": [
      "Enter Password:  134\n"
     ]
    },
    {
     "name": "stdout",
     "output_type": "stream",
     "text": [
      "Access denied\n"
     ]
    }
   ],
   "source": [
    "def auth_required(**auth):\n",
    "    def decorator(func):\n",
    "        def wrapper():\n",
    "            user_input=input(\"Enter Password: \")\n",
    "            if user_input==auth.get(\"password\"):\n",
    "                print(f\"welcome,{auth.get('user')}\")\n",
    "                return func()\n",
    "            else:\n",
    "                print(\"Access denied\")\n",
    "        return wrapper\n",
    "    return decorator\n",
    "\n",
    "@auth_required(password=\"1234\" ,user=\"iman\")\n",
    "def secret_data():\n",
    "    print(\"Access Granted\")\n",
    "    \n",
    "secret_data()"
   ]
  },
  {
   "cell_type": "code",
   "execution_count": null,
   "id": "f1447b90-a643-4faa-bd64-eff32ee6e5a5",
   "metadata": {},
   "outputs": [],
   "source": []
  }
 ],
 "metadata": {
  "kernelspec": {
   "display_name": "Python 3 (ipykernel)",
   "language": "python",
   "name": "python3"
  },
  "language_info": {
   "codemirror_mode": {
    "name": "ipython",
    "version": 3
   },
   "file_extension": ".py",
   "mimetype": "text/x-python",
   "name": "python",
   "nbconvert_exporter": "python",
   "pygments_lexer": "ipython3",
   "version": "3.13.5"
  }
 },
 "nbformat": 4,
 "nbformat_minor": 5
}
