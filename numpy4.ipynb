{
 "cells": [
  {
   "cell_type": "code",
   "execution_count": 5,
   "id": "2eeee094-b02e-4acd-a883-f751271bbbae",
   "metadata": {},
   "outputs": [
    {
     "name": "stdout",
     "output_type": "stream",
     "text": [
      "[[ 1  3  5  7  9]\n",
      " [ 6  8 10 12 14]\n",
      " [11 13 15 17 19]]\n",
      "(5,)\n"
     ]
    }
   ],
   "source": [
    "#You are given a 1D array of shape (5,) and a 2D array of shape (3,5). Add the 1D array to each row of the 2D array\n",
    "#using broadcasting\n",
    "import numpy as np\n",
    "d1=[1,2,3,4,5]\n",
    "d2=np.arange(15).reshape(3,5)\n",
    "addition=np.add(d1,d2)\n",
    "print(addition)\n",
    "print(np.shape(d1))"
   ]
  },
  {
   "cell_type": "code",
   "execution_count": 7,
   "id": "e086eef1-5fc5-4bdc-8348-8ca7816b7915",
   "metadata": {},
   "outputs": [
    {
     "name": "stdout",
     "output_type": "stream",
     "text": [
      "[[ 0  2  6 12]\n",
      " [ 4 10 18 28]\n",
      " [ 8 18 30 44]]\n"
     ]
    }
   ],
   "source": [
    "#Multiply each column of a (3,4) array by a different scalar stored in a (4,) array.\n",
    "import numpy as np\n",
    "d1=[1,2,3,4]\n",
    "d2=np.arange(12).reshape(3,4)\n",
    "multiplication=d1*d2\n",
    "print(multiplication)"
   ]
  },
  {
   "cell_type": "code",
   "execution_count": 11,
   "id": "80765e16-25d6-4aca-bb29-cd35dc11d14b",
   "metadata": {},
   "outputs": [
    {
     "name": "stdout",
     "output_type": "stream",
     "text": [
      "[[ 4  5  6  7]\n",
      " [ 8 10 12 14]\n",
      " [12 15 18 21]]\n"
     ]
    }
   ],
   "source": [
    "#Without using np.outer, compute the outer product of two vectors (3,) and (4,).\n",
    "import numpy as np\n",
    "a=np.array([1,2,3]).reshape(3,1)\n",
    "b=np.array([4,5,6,7])\n",
    "o=a*b\n",
    "print(o)"
   ]
  },
  {
   "cell_type": "code",
   "execution_count": 14,
   "id": "2bf3de89-cc4a-43ca-807b-c3759e6bb5ee",
   "metadata": {},
   "outputs": [
    {
     "name": "stdout",
     "output_type": "stream",
     "text": [
      "[[ 0  0  0  0  0]\n",
      " [ 5  6  0  0  0]\n",
      " [10 11 12  0  0]\n",
      " [15 16 17 18  0]\n",
      " [20 21 22 23 24]]\n"
     ]
    }
   ],
   "source": [
    "#Given a (5,5) matrix, set all elements above the main diagonal to 0.\n",
    "import numpy as np\n",
    "a=np.arange(25).reshape(5,5)\n",
    "result=np.tril(a)\n",
    "print(result)"
   ]
  },
  {
   "cell_type": "code",
   "execution_count": 20,
   "id": "d9eadf08-a9fa-46f7-9b8e-cf92afd133c3",
   "metadata": {},
   "outputs": [
    {
     "name": "stdout",
     "output_type": "stream",
     "text": [
      "[[1. 0. 0. 0. 0. 0.]\n",
      " [0. 1. 0. 0. 0. 0.]\n",
      " [0. 0. 1. 0. 0. 0.]\n",
      " [0. 0. 0. 1. 0. 0.]\n",
      " [0. 0. 0. 0. 1. 0.]\n",
      " [0. 0. 0. 0. 0. 1.]]\n"
     ]
    }
   ],
   "source": [
    "#Construct the following block matrix using NumPy concatenation:\n",
    "import numpy as np\n",
    "I=np.eye(3)\n",
    "z=np.zeros((3,3))\n",
    "M=np.block([[I,z],[z,I]])\n",
    "print(M)"
   ]
  },
  {
   "cell_type": "code",
   "execution_count": 21,
   "id": "e966a245-86d6-46b4-bc49-65f0b2c7bf23",
   "metadata": {},
   "outputs": [
    {
     "name": "stdout",
     "output_type": "stream",
     "text": [
      "Eigenvalues: [3. 2.]\n",
      "Eigenvectors:\n",
      " [[0.89442719 0.70710678]\n",
      " [0.4472136  0.70710678]]\n"
     ]
    }
   ],
   "source": [
    "import numpy as np\n",
    "\n",
    "A = np.array([[4, -2],\n",
    "              [1,  1]])\n",
    "\n",
    "w, v = np.linalg.eig(A)\n",
    "print(\"Eigenvalues:\", w)\n",
    "print(\"Eigenvectors:\\n\", v)\n"
   ]
  },
  {
   "cell_type": "code",
   "execution_count": 28,
   "id": "cdbf5b37-1e42-48d5-9fea-a50c9b9340fe",
   "metadata": {},
   "outputs": [
    {
     "name": "stdout",
     "output_type": "stream",
     "text": [
      "[[0.1667 0.3333 0.5   ]\n",
      " [0.2667 0.3333 0.4   ]\n",
      " [0.2917 0.3333 0.375 ]]\n"
     ]
    }
   ],
   "source": [
    "#Normalize each row of a 2D array so that the row sum = 1.\n",
    "import numpy as np \n",
    "arr=np.arange(1,10).reshape(3,3)\n",
    "row_sum=arr.sum(axis=1,keepdims=True)\n",
    "result=arr/row_sum\n",
    "print(np.round(result,4))"
   ]
  },
  {
   "cell_type": "code",
   "execution_count": 37,
   "id": "b3af6e11-1537-4367-9b48-9491a76e7142",
   "metadata": {},
   "outputs": [
    {
     "name": "stdout",
     "output_type": "stream",
     "text": [
      "[[ 0.74391319  1.23340571  0.37527115 -0.95330411]\n",
      " [ 0.41155611  1.31130064 -0.61890423  0.86404404]\n",
      " [-0.09571543  1.74409038  0.6815603   0.02742811]\n",
      " [-0.02732405  1.72445464  1.06133223  0.55122544]]\n",
      "[[ 0.74391319  0.82248091  0.13977786 -0.49031408]\n",
      " [ 0.82248091  1.31130064  0.56259307  1.29424934]\n",
      " [ 0.13977786  0.56259307  0.6815603   0.54438017]\n",
      " [-0.49031408  1.29424934  0.54438017  0.55122544]]\n",
      "Is eigen values of symmetric are real ? True\n"
     ]
    }
   ],
   "source": [
    "#Generate a random symmetric (4,4) matrix and confirm its eigenvalues are real.\n",
    "import numpy as np\n",
    "A=np.random.randn(4,4)\n",
    "sym_A=(A+(A.T))/2\n",
    "print(A)\n",
    "print(sym_A)\n",
    "values=np.linalg.eigvalsh(sym_A)\n",
    "print(\"Is eigen values of symmetric are real ?\" ,np.all(np.isreal(values)))"
   ]
  },
  {
   "cell_type": "code",
   "execution_count": 52,
   "id": "b1828ac4-ffda-473f-a889-d4cb3db65012",
   "metadata": {},
   "outputs": [
    {
     "name": "stdout",
     "output_type": "stream",
     "text": [
      "[-0.05555556  0.11111111  0.27777778]\n",
      "[]\n",
      "2\n",
      "[3.51826483e+01 1.47690770e+00 1.65564886e-15]\n"
     ]
    }
   ],
   "source": [
    "#Solve Ax = b in the least squares sense, where A is (5,3) and b is (5,).\n",
    "import numpy as np \n",
    "A=np.arange(1,16).reshape(5,3)\n",
    "b=np.arange(1,6)\n",
    "x,residuals,rank,s=np.linalg.lstsq(A,b)\n",
    "print(x)\n",
    "print(residuals)\n",
    "print(rank)\n",
    "print(s)"
   ]
  },
  {
   "cell_type": "code",
   "execution_count": 66,
   "id": "74d20203-3a8d-4f98-a060-917e150c20d3",
   "metadata": {},
   "outputs": [
    {
     "name": "stdout",
     "output_type": "stream",
     "text": [
      "[[1 2]\n",
      " [3 4]\n",
      " [5 6]]\n",
      "[[[ 0  0]\n",
      "  [-2 -2]\n",
      "  [-4 -4]]\n",
      "\n",
      " [[ 2  2]\n",
      "  [ 0  0]\n",
      "  [-2 -2]]\n",
      "\n",
      " [[ 4  4]\n",
      "  [ 2  2]\n",
      "  [ 0  0]]]\n",
      "[[0.         2.82842712 5.65685425]\n",
      " [2.82842712 0.         2.82842712]\n",
      " [5.65685425 2.82842712 0.        ]]\n"
     ]
    }
   ],
   "source": [
    "#euclidean \n",
    "\n",
    "import numpy as np \n",
    "A=np.arange(1,7).reshape(3,2)\n",
    "print(A)\n",
    "diff=A[:,None,:]-A[None,:,:]\n",
    "print(diff)\n",
    "sq=np.sum(diff**2,axis=-1)\n",
    "sqrt=sq**0.5\n",
    "print(sqrt)"
   ]
  },
  {
   "cell_type": "code",
   "execution_count": 70,
   "id": "1b164717-4a1f-4d55-9901-862dcd018707",
   "metadata": {},
   "outputs": [
    {
     "name": "stdout",
     "output_type": "stream",
     "text": [
      "[[ 0 16 32]\n",
      " [16  0 16]\n",
      " [32 16  0]]\n"
     ]
    }
   ],
   "source": [
    "#manhattan\n",
    "import numpy as np\n",
    "A=np.arange(1,13).reshape(3,4)\n",
    "diff=A[:,None,:]-A[None,:,:]\n",
    "sums=np.sum(np.abs(diff),axis=-1)\n",
    "print(sums)"
   ]
  },
  {
   "cell_type": "code",
   "execution_count": 75,
   "id": "0b3ac879-e247-4109-8f4a-f6b7a6bc278d",
   "metadata": {},
   "outputs": [
    {
     "name": "stdin",
     "output_type": "stream",
     "text": [
      "Enter the power 4\n"
     ]
    },
    {
     "name": "stdout",
     "output_type": "stream",
     "text": [
      "[[ 0.          7.47674391 14.95348781]\n",
      " [ 7.47674391  0.          7.47674391]\n",
      " [14.95348781  7.47674391  0.        ]]\n"
     ]
    }
   ],
   "source": [
    "#minkowiski\n",
    "import numpy as np \n",
    "r=int(input(\"Enter the power\"))\n",
    "A=np.arange(1,16).reshape(3,5)\n",
    "diff=A[:,None,:]-A[None,:,:]\n",
    "power=np.sum(np.abs(diff)**r,axis=-1)\n",
    "root=power**(1/r)\n",
    "print(root)"
   ]
  },
  {
   "cell_type": "code",
   "execution_count": null,
   "id": "2e9c0daa-2d35-4d21-aee9-2ce26b99d010",
   "metadata": {},
   "outputs": [],
   "source": []
  }
 ],
 "metadata": {
  "kernelspec": {
   "display_name": "Python 3 (ipykernel)",
   "language": "python",
   "name": "python3"
  },
  "language_info": {
   "codemirror_mode": {
    "name": "ipython",
    "version": 3
   },
   "file_extension": ".py",
   "mimetype": "text/x-python",
   "name": "python",
   "nbconvert_exporter": "python",
   "pygments_lexer": "ipython3",
   "version": "3.13.5"
  }
 },
 "nbformat": 4,
 "nbformat_minor": 5
}
