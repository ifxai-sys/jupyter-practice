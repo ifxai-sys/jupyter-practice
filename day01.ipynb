{
 "cells": [
  {
   "cell_type": "code",
   "execution_count": 3,
   "id": "179066b5-c68d-49ec-8418-5283eb130ea7",
   "metadata": {},
   "outputs": [
    {
     "name": "stdout",
     "output_type": "stream",
     "text": [
      "dlroW olleH\n"
     ]
    }
   ],
   "source": [
    "#reverse the string without using split() and join()\n",
    "s1=\"Hello World\"\n",
    "print(s1[::-1])"
   ]
  },
  {
   "cell_type": "code",
   "execution_count": 6,
   "id": "13760e93-10e7-402c-9197-c1eacf37b848",
   "metadata": {},
   "outputs": [
    {
     "name": "stdout",
     "output_type": "stream",
     "text": [
      "Number of vowels in the string is 9\n",
      "Number of consunants in string is 15\n",
      "number of digits in string is  2\n"
     ]
    }
   ],
   "source": [
    "#count the number of vowels and consunants in the string\n",
    "s1=\"My name is iman and i am 20 yrs old\"\n",
    "vowels=0\n",
    "consunants=0\n",
    "digit=0\n",
    "for i in s1:\n",
    "    if i.lower() in ('a','e','i','o','u'):\n",
    "        vowels+=1\n",
    "    elif i.isalpha():\n",
    "        consunants+=1\n",
    "    elif i.isdigit():\n",
    "        digit+=1\n",
    "print(\"Number of vowels in the string is\",vowels)\n",
    "print(\"Number of consunants in string is\",consunants)\n",
    "print(\"number of digits in string is \",digit)"
   ]
  },
  {
   "cell_type": "code",
   "execution_count": 14,
   "id": "e4c7bbbf-2255-4991-b5d1-9a0e8718fdd0",
   "metadata": {},
   "outputs": [
    {
     "name": "stdout",
     "output_type": "stream",
     "text": [
      "w\n"
     ]
    }
   ],
   "source": [
    "#find first non repeating character in string\n",
    "string=\"swiss\"\n",
    "for i in string:\n",
    "    if string.count(i)==1:\n",
    "       print(i)\n",
    "       break\n",
    "    "
   ]
  },
  {
   "cell_type": "code",
   "execution_count": 18,
   "id": "728ca8ee-ac65-4343-bcae-76ad24e17297",
   "metadata": {},
   "outputs": [
    {
     "name": "stdout",
     "output_type": "stream",
     "text": [
      "S2 is not the rotation od S1\n"
     ]
    }
   ],
   "source": [
    "#check if the string is rotation of another string\n",
    "s1=\"abcdef\"\n",
    "s2=\"abdfce\"\n",
    "def rotated(s1,s2):\n",
    "    if len(s1)!=len(s2):\n",
    "        return False\n",
    "    return s2 in (s1+s1)\n",
    "if rotated(s1,s2):\n",
    "    print(\"S2 is the rotation of S1\")\n",
    "else:\n",
    "    print(\"S2 is not the rotation od S1\")"
   ]
  },
  {
   "cell_type": "code",
   "execution_count": 26,
   "id": "bb2f3642-9946-4180-bb98-b3eeb25dc9a4",
   "metadata": {},
   "outputs": [
    {
     "name": "stdout",
     "output_type": "stream",
     "text": [
      "abedcfg\n"
     ]
    }
   ],
   "source": [
    "#remove all the duplicate character from string without changing o\n",
    "s1=\"aabedcdefgggfd\"\n",
    "s2=\"\"\n",
    "for i in s1:\n",
    "    if i not in s2:\n",
    "        s2+=i\n",
    "print(s2)\n"
   ]
  },
  {
   "cell_type": "code",
   "execution_count": 30,
   "id": "03cc49ab-f9a8-4b1c-96c4-ae6584045398",
   "metadata": {},
   "outputs": [
    {
     "name": "stdout",
     "output_type": "stream",
     "text": [
      "a3b6c4"
     ]
    }
   ],
   "source": [
    "#compress astring by count of repeated character like (aaaabbb -> a4b3)\n",
    "s1=\"abcabbbcbbacc\"\n",
    "s_sorted=sorted(s1)\n",
    "s2=\"\"\n",
    "c=0\n",
    "for i in s_sorted:\n",
    "    if i not in s2:\n",
    "        c=s1.count(i)\n",
    "        s2=i+str(c)\n",
    "        print(s2,end=\"\")"
   ]
  },
  {
   "cell_type": "code",
   "execution_count": 34,
   "id": "105a3911-511c-4b70-87d7-37c9c667d4db",
   "metadata": {},
   "outputs": [
    {
     "name": "stdout",
     "output_type": "stream",
     "text": [
      "True\n"
     ]
    }
   ],
   "source": [
    "#check if 2 string are anagrams without using sorted()\n",
    "def anagrams(s1,s2):\n",
    "    if len(s1)!=len(s2):\n",
    "        return False\n",
    "    s2_list=list(s2)\n",
    "    for char in s1:\n",
    "        if char in s2:\n",
    "            s2_list.remove(char)\n",
    "        else:\n",
    "            return False\n",
    "    return True\n",
    "print(anagrams(\"silent\",\"listen\"))"
   ]
  },
  {
   "cell_type": "code",
   "execution_count": 40,
   "id": "d6dcebc9-92d4-40f4-aa7e-745159293aeb",
   "metadata": {},
   "outputs": [
    {
     "name": "stdout",
     "output_type": "stream",
     "text": [
      "abed is the largest substring of lenght 4\n"
     ]
    }
   ],
   "source": [
    "#find the longest substring without repeating character\n",
    "s1=\"abcdbcdcdabed\"\n",
    "def substring(s):\n",
    "    substring=\"\"\n",
    "    largest=\"\"\n",
    "    maximum=0\n",
    "    for char in s1:\n",
    "        if char in substring:\n",
    "            substring=substring[substring.index(char)+1:]\n",
    "        substring+=char\n",
    "    if len(substring)>maximum:\n",
    "        maximum=len(substring)\n",
    "        largest=substring\n",
    "    print(f\"{largest} is the largest substring of lenght {maximum}\")\n",
    "substring(s1)"
   ]
  },
  {
   "cell_type": "code",
   "execution_count": 52,
   "id": "89e4fc84-c8b4-4c75-850c-5679c872c062",
   "metadata": {},
   "outputs": [
    {
     "name": "stdout",
     "output_type": "stream",
     "text": [
      "my20%name20%is20%iman20%and20%i20%am20%2020%years20%old\n"
     ]
    }
   ],
   "source": [
    "#replace all the spaces in string with 20% without using replace()\n",
    "s1=\"my name is iman and i am 20 years old\"\n",
    "result=\"\"\n",
    "for char in s1:\n",
    "    if char==\" \":\n",
    "        result+=\"20%\"\n",
    "    else:\n",
    "        result+=char\n",
    "print(result)"
   ]
  },
  {
   "cell_type": "code",
   "execution_count": 54,
   "id": "10f67593-d5e7-4c21-a036-4e75f0eadb73",
   "metadata": {},
   "outputs": [
    {
     "data": {
      "text/plain": [
       "False"
      ]
     },
     "execution_count": 54,
     "metadata": {},
     "output_type": "execute_result"
    }
   ],
   "source": [
    "#check if s1 contain all the character of s2\n",
    "s1=\"abcedghxyz\"\n",
    "s2=\"lmnabc\"\n",
    "def check_char(s1,s2):\n",
    "    for char in s2:\n",
    "        if char in s1:\n",
    "            return True\n",
    "        else:\n",
    "            return False\n",
    "check_char(s1,s2)"
   ]
  },
  {
   "cell_type": "code",
   "execution_count": 61,
   "id": "6aa446f3-ed29-4f7a-951e-d4b0f049b133",
   "metadata": {},
   "outputs": [
    {
     "name": "stdout",
     "output_type": "stream",
     "text": [
      "Number is not prime\n"
     ]
    }
   ],
   "source": [
    "#check if number is prime or not\n",
    "import math\n",
    "def is_prime(n):\n",
    "    prime=True\n",
    "    if n==1 or n==0:\n",
    "        prime=False\n",
    "    for i in range(2,int(math.sqrt(n)+1)):\n",
    "        if n%i==0:\n",
    "            prime=False\n",
    "            break\n",
    "        else:\n",
    "            prime\n",
    "    if prime:\n",
    "        print(\"Number is prime\")\n",
    "    else:\n",
    "        print(\"Number is not prime\")\n",
    "is_prime(8)"
   ]
  },
  {
   "cell_type": "code",
   "execution_count": 66,
   "id": "22cab411-f9c1-449c-ba9b-5c73b0336d9f",
   "metadata": {},
   "outputs": [
    {
     "name": "stdout",
     "output_type": "stream",
     "text": [
      "[2, 3, 5, 7, 11, 13, 17, 19, 23, 29, 31, 37, 41, 43, 47, 53, 59, 61, 67, 71, 73, 79, 83, 89, 97]\n"
     ]
    }
   ],
   "source": [
    "#write all the prime numbers within a range.\n",
    "import math\n",
    "li=[]\n",
    "for i in range(2,101):\n",
    "    for j in range(2,int(math.sqrt(i)+1)):\n",
    "        if i%j==0:\n",
    "            break\n",
    "    else:\n",
    "            li.append(i)\n",
    "print(li)"
   ]
  },
  {
   "cell_type": "code",
   "execution_count": null,
   "id": "e9fd9c16-54c0-4e69-ac00-735b2686f1f7",
   "metadata": {},
   "outputs": [],
   "source": []
  },
  {
   "cell_type": "code",
   "execution_count": null,
   "id": "0d3d1934-4fc5-4cf5-b8e6-9b86f263a362",
   "metadata": {},
   "outputs": [],
   "source": []
  }
 ],
 "metadata": {
  "kernelspec": {
   "display_name": "Python 3 (ipykernel)",
   "language": "python",
   "name": "python3"
  },
  "language_info": {
   "codemirror_mode": {
    "name": "ipython",
    "version": 3
   },
   "file_extension": ".py",
   "mimetype": "text/x-python",
   "name": "python",
   "nbconvert_exporter": "python",
   "pygments_lexer": "ipython3",
   "version": "3.13.5"
  }
 },
 "nbformat": 4,
 "nbformat_minor": 5
}
