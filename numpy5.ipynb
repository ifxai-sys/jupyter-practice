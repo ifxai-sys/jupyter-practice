{
 "cells": [
  {
   "cell_type": "code",
   "execution_count": 5,
   "id": "3b7dbde0-26d3-4c82-b39c-57ad7e1d5c8f",
   "metadata": {},
   "outputs": [
    {
     "name": "stdout",
     "output_type": "stream",
     "text": [
      "90\n"
     ]
    }
   ],
   "source": [
    "#Given a 2D NumPy array, write code to calculate the sum of \n",
    "#only the border elements (first row, last row, first column, last column).\n",
    "import numpy as np \n",
    "d2=np.arange(16).reshape(4,4)\n",
    "top=d2[0,:]\n",
    "bottom=d2[-1,:]\n",
    "left=d2[1:-1,0]\n",
    "right=d2[1:-1,-1]\n",
    "sum=top.sum()+bottom.sum()+right.sum()+left.sum()\n",
    "print(sum)"
   ]
  },
  {
   "cell_type": "code",
   "execution_count": 15,
   "id": "4a9c4cde-d113-4a86-9468-7e56e47ca78a",
   "metadata": {},
   "outputs": [
    {
     "name": "stdout",
     "output_type": "stream",
     "text": [
      "5.5\n",
      "[[ 0  1  2]\n",
      " [ 3  4  5]\n",
      " [ 6  7  8]\n",
      " [ 9 10 11]]\n"
     ]
    }
   ],
   "source": [
    "#For a given NumPy array, replace all values that are greater than\n",
    "#mean + 2×std or less than mean - 2×std with the array mean.\n",
    "import numpy as np\n",
    "arr=np.arange(12).reshape(4,3)\n",
    "mean=arr.mean()\n",
    "std=arr.std()\n",
    "sums=mean + 2 * std\n",
    "subs=mean - 2 * std\n",
    "mask= (arr>sums) | (arr<subs)\n",
    "arr[mask]=mean\n",
    "print(arr)\n",
    "\n"
   ]
  },
  {
   "cell_type": "code",
   "execution_count": 36,
   "id": "50e7a559-1323-4d2b-8aac-234023804800",
   "metadata": {},
   "outputs": [
    {
     "name": "stdout",
     "output_type": "stream",
     "text": [
      "[[1. 1. 0. 0. 0. 0.]\n",
      " [1. 1. 0. 0. 0. 0.]\n",
      " [0. 0. 1. 0. 0. 0.]\n",
      " [0. 0. 0. 1. 0. 0.]\n",
      " [0. 0. 0. 0. 1. 0.]\n",
      " [0. 0. 0. 0. 0. 9.]]\n"
     ]
    }
   ],
   "source": []
  },
  {
   "cell_type": "code",
   "execution_count": 35,
   "id": "7b05249b-5a11-4589-b03f-2305a0046555",
   "metadata": {},
   "outputs": [
    {
     "name": "stdout",
     "output_type": "stream",
     "text": [
      "[[3, 5, 4], [6, 5, 2], [9, 1, 5]]\n",
      "[[1 3 2]\n",
      " [3 2 1]\n",
      " [2 3 1]]\n"
     ]
    }
   ],
   "source": [
    "import numpy as np\n",
    "arr=[[3,5,4],[6,5,2],[9,1,5]]\n",
    "print(arr)\n",
    "rank=np.argsort(arr)+1\n",
    "print(rank)"
   ]
  },
  {
   "cell_type": "code",
   "execution_count": 60,
   "id": "1bdbf28c-3cde-4d9f-8ac1-9a30ff7b279e",
   "metadata": {},
   "outputs": [
    {
     "name": "stdout",
     "output_type": "stream",
     "text": [
      "[[0.         2.82842712 5.65685425]\n",
      " [2.82842712 0.         2.82842712]\n",
      " [5.65685425 2.82842712 0.        ]]\n"
     ]
    }
   ],
   "source": [
    "#Given a 2D array of points X (shape (n, d)),\n",
    "#compute the distance matrix where D[i, j] is the Euclidean distance between point i and point j.\n",
    "X=np.arange(1,7).reshape(3,2)\n",
    "diff=X[:,None,:]-X[None,:,:]\n",
    "Sq=np.sum(np.abs(diff)**2,axis=-1)\n",
    "sqrt=Sq**0.5\n",
    "print(sqrt)"
   ]
  },
  {
   "cell_type": "code",
   "execution_count": null,
   "id": "61665a09-0582-4866-b4ef-22479edbb4bc",
   "metadata": {},
   "outputs": [],
   "source": []
  }
 ],
 "metadata": {
  "kernelspec": {
   "display_name": "Python 3 (ipykernel)",
   "language": "python",
   "name": "python3"
  },
  "language_info": {
   "codemirror_mode": {
    "name": "ipython",
    "version": 3
   },
   "file_extension": ".py",
   "mimetype": "text/x-python",
   "name": "python",
   "nbconvert_exporter": "python",
   "pygments_lexer": "ipython3",
   "version": "3.13.5"
  }
 },
 "nbformat": 4,
 "nbformat_minor": 5
}
